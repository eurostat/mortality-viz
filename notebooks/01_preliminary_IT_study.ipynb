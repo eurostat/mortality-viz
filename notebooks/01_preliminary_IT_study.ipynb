{
 "cells": [
  {
   "cell_type": "markdown",
   "metadata": {},
   "source": [
    "## A preliminary view at 2020 mortality data from ISTAT"
   ]
  },
  {
   "cell_type": "markdown",
   "metadata": {},
   "source": [
    "You can find Ricciato's original study on [CROS portal](https://ec.europa.eu/eurostat/cros/content/preliminary-view-2020-mortality-data-istat)."
   ]
  },
  {
   "cell_type": "markdown",
   "metadata": {},
   "source": [
    "### Setup of the environment"
   ]
  },
  {
   "cell_type": "code",
   "execution_count": 35,
   "metadata": {},
   "outputs": [],
   "source": [
    "import os, sys, io\n",
    "import requests\n",
    "try:\n",
    "    import numpy as np\n",
    "    import pandas as pd\n",
    "except:\n",
    "    print('Critical packages missing... abort!')\n",
    "try:\n",
    "    import zipfile\n",
    "except:\n",
    "    print('zip facility missing...')"
   ]
  },
  {
   "cell_type": "markdown",
   "metadata": {},
   "source": [
    "### Data ingestion"
   ]
  },
  {
   "cell_type": "markdown",
   "metadata": {},
   "source": [
    "Actually at this stage, we set manually the metadata. "
   ]
  },
  {
   "cell_type": "code",
   "execution_count": 4,
   "metadata": {},
   "outputs": [],
   "source": [
    "# next: we will use pandoc to load information regarding the metadata from docx"
   ]
  },
  {
   "cell_type": "code",
   "execution_count": 94,
   "metadata": {},
   "outputs": [],
   "source": [
    "from collections import OrderedDict\n",
    "from datetime import datetime\n",
    "OBASETYPE       = {t.__name__: t for t in [type, bool, int, float, str, datetime]}\n",
    "__type2name     = lambda t: t.__name__  # lambda t: {v:k for (k,v) in OBASETYPE.items()}[t]    \n",
    "\n",
    "METADATA        =  { \"country\":     {'code': 'IT', 'name': 'Italia'},\n",
    "                     \"lang\":        {'code': 'it', 'name': 'italian'}, \n",
    "                     \"file\":        'comune_giorno.csv',\n",
    "                     \"source\":      'https://www.istat.it/it/files/2020/03/comune-giorno.zip',\n",
    "                     \"enc\":         \"latin1\",\n",
    "                     \"sep\":         ';', \n",
    "                     \"date\":        None, #'%d-%m-%Y %H:%M',\n",
    "                     \"index\":     OrderedDict( [ \n",
    "                        (\"REG\",       {\"name\": \"REG\",                     \"desc\": \"Codice Istat della Regione di residenza.\",\n",
    "                                      \"type\": __type2name(int),         \"values\": None}),\n",
    "                        (\"PROV\",     {\"name\": \"PROV\",          \"desc\": \"Codice Istat della Provincia di residenza.\",   \n",
    "                                      \"type\": __type2name(int),         \"values\": None}),\n",
    "                        (\"REGIONE\",     {\"name\": \"NOME_REGIONE\",          \"desc\": \"Regione di residenza.\",   \n",
    "                                      \"type\": __type2name(str),         \"values\": None}),\n",
    "                        (\"PROVINCIA\",     {\"name\": \"NOME_PROVINCIA\",          \"desc\": \"Provincia di residenza.\",   \n",
    "                                      \"type\": __type2name(str),         \"values\": None}),\n",
    "                        (\"COMUNE\",     {\"name\": \"NOME_COMUNE\",          \"desc\": \"Comune di residenza.\",   \n",
    "                                      \"type\": __type2name(str),         \"values\": None}),\n",
    "                        (\"PROVCOM\",     {\"name\": \"COD_PROVCOM\",          \"desc\": \"Comune di residenza (classificazione Istat al 01/01/2020)\",   \n",
    "                                      \"type\": __type2name(str),         \"values\": None}),\n",
    "                        (\"ETA\",     {\"name\": \"CL_ETA\",          \"desc\": \"Classe di età in anni compiuti al momento del decesso\",   \n",
    "                                      \"type\": __type2name(int),         \"values\": {0: \"0\", 1: \"1-4\", 2: \"5-9\", 3:\"10-14\", 4:\"15-19\", 5:\"20-24\", 6:\"25-29\", 7:\"30-34\", 8:\"35-39\", 9:\"40-44\", 10:\"45-49\", 11:\"50-54\", 12:\"55-59\", 13:\"60-64\", 14:\"65-69\", 15:\"70-74\", 16:\"75-79\", 17:\"80-84\", 18:\"85-89\", 19:\"90-94\", 20:\"95-99\",21:\"100+\"}}),\n",
    "                        (\"GE\",       {\"name\": \"GE\",                     \"desc\": \"Giorno di decesso (formato variabile: MeseMeseGiornoGiorno).\",\n",
    "                                      \"type\": __type2name(str),         \"values\": None}),\n",
    "                        (\"M_15\",       {\"name\": \"MASCHI_15\",                     \"desc\": \"numero di decessi maschili nel 2015.\",\n",
    "                                      \"type\": __type2name(int),         \"values\": None}),\n",
    "                        (\"M_16\",       {\"name\": \"MASCHI_16\",                     \"desc\": \"numero di decessi maschili nel 2016.\",\n",
    "                                      \"type\": __type2name(int),         \"values\": None}),\n",
    "                        (\"M_17\",       {\"name\": \"MASCHI_17\",                     \"desc\": \"numero di decessi maschili nel 2017.\",\n",
    "                                      \"type\": __type2name(int),         \"values\": None}),\n",
    "                        (\"M_18\",       {\"name\": \"MASCHI_18\",                     \"desc\": \"numero di decessi maschili nel 2018.\",\n",
    "                                      \"type\": __type2name(int),         \"values\": None}),\n",
    "                        (\"M_19\",       {\"name\": \"MASCHI_19\",                     \"desc\": \"numero di decessi maschili nel 2019.\",\n",
    "                                      \"type\": __type2name(int),         \"values\": None}),\n",
    "                        (\"M_20\",       {\"name\": \"MASCHI_20\",                     \"desc\": \"numero di decessi maschili nel 2020.\",\n",
    "                                      \"type\": __type2name(int),         \"values\": None}),\n",
    "                        (\"F_15\",       {\"name\": \"FEMMINE_15\",                     \"desc\": \"numero di decessi femminili nel 2015.\",\n",
    "                                      \"type\": __type2name(int),         \"values\": None}),\n",
    "                        (\"F_16\",       {\"name\": \"FEMMINE_16\",                     \"desc\": \"numero di decessi femminili nel 2016.\",\n",
    "                                      \"type\": __type2name(int),         \"values\": None}),\n",
    "                        (\"F_17\",       {\"name\": \"FEMMINE_17\",                     \"desc\": \"numero di decessi femminili nel 2017.\",\n",
    "                                      \"type\": __type2name(int),         \"values\": None}),\n",
    "                        (\"F_18\",       {\"name\": \"FEMMINE_18\",                     \"desc\": \"numero di decessi femminili nel 2018.\",\n",
    "                                      \"type\": __type2name(int),         \"values\": None}),\n",
    "                        (\"F_19\",       {\"name\": \"FEMMINE_19\",                     \"desc\": \"numero di decessi femminili nel 2019.\",\n",
    "                                      \"type\": __type2name(int),         \"values\": None}),\n",
    "                        (\"F_20\",       {\"name\": \"FEMMINE_20\",                     \"desc\": \"numero di decessi femminili nel 2020.\",\n",
    "                                      \"type\": __type2name(int),         \"values\": None}),\n",
    "                        (\"T_15\",       {\"name\": \"TOTALE_15\",                     \"desc\": \"numero di decessi totali nel 2015.\",\n",
    "                                      \"type\": __type2name(int),         \"values\": None}),\n",
    "                        (\"T_16\",       {\"name\": \"TOTALE_16\",                     \"desc\": \"numero di decessi totali nel 2016.\",\n",
    "                                      \"type\": __type2name(int),         \"values\": None}),\n",
    "                        (\"T_17\",       {\"name\": \"TOTALE_17\",                     \"desc\": \"numero di decessi totali nel 2017.\",\n",
    "                                      \"type\": __type2name(int),         \"values\": None}),\n",
    "                        (\"T_18\",       {\"name\": \"TOTALE_18\",                     \"desc\": \"numero di decessi totali nel 2018.\",\n",
    "                                      \"type\": __type2name(int),         \"values\": None}),\n",
    "                        (\"T_19\",       {\"name\": \"TOTALE_19\",                     \"desc\": \"numero di decessi totali nel 2019.\",\n",
    "                                      \"type\": __type2name(int),         \"values\": None}),\n",
    "                        (\"T_20\",       {\"name\": \"TOTALE_20\",                     \"desc\": \"numero di decessi totali nel 2020.\",\n",
    "                                      \"type\": __type2name(int),         \"values\": None})\n",
    "                        ]),\n",
    "                    \"nan\": 9999\n",
    "}"
   ]
  },
  {
   "cell_type": "markdown",
   "metadata": {},
   "source": [
    "Actually, at this stage, we are interested in the data source only:"
   ]
  },
  {
   "cell_type": "code",
   "execution_count": 95,
   "metadata": {},
   "outputs": [
    {
     "name": "stdout",
     "output_type": "stream",
     "text": [
      "Input source file: https://www.istat.it/it/files/2020/03/comune-giorno.zip\n",
      "Source file found online... proceed\n"
     ]
    }
   ],
   "source": [
    "SOURCE = METADATA['source']\n",
    "print('Input source file: %s' % SOURCE)\n",
    "\n",
    "PROTOCOLS = ['http', 'https', 'ftp'] \n",
    "if any([SOURCE.startswith(p) for p in PROTOCOLS]):\n",
    "    try:\n",
    "        response = requests.get(SOURCE)\n",
    "        response.raise_for_status()\n",
    "    except (requests.URLRequired,requests.HTTPError,requests.RequestException):\n",
    "        print(\"NO source file found online... abort!\")\n",
    "    else:\n",
    "        source = io.BytesIO(response.content)\n",
    "        print(\"Source file found online... proceed\")\n",
    "elif os.path.exists(SOURCE):\n",
    "    source = SOURCE\n",
    "    print(\"Source file found on the disk... proceed\")\n",
    "else:\n",
    "    print(\"NO input source file found on the disk... abort!\")"
   ]
  },
  {
   "cell_type": "code",
   "execution_count": 96,
   "metadata": {},
   "outputs": [
    {
     "name": "stdout",
     "output_type": "stream",
     "text": [
      "Input data file: comune_giorno.csv\n",
      "Data comune-giorno/comune_giorno.csv read in source file\n"
     ]
    }
   ],
   "source": [
    "FILE = METADATA['file']\n",
    "print('Input data file: %s' % FILE)\n",
    "\n",
    "ENC = METADATA['enc']\n",
    "SEP = METADATA['sep']\n",
    "\n",
    "if FILE is None:\n",
    "    file = source\n",
    "if any([SOURCE.endswith(z) for z in ('zip','gzip','gz')]):\n",
    "    try:\n",
    "        assert zipfile.is_zipfile(source)\n",
    "    except:\n",
    "        print(\"Wrongly formatted input source file... abort!\")\n",
    "    with zipfile.ZipFile(source) as zf:\n",
    "        namelist = zf.namelist()\n",
    "        try:\n",
    "            assert FILE in namelist\n",
    "        except:\n",
    "            try:\n",
    "                _namelist = [os.path.basename(n) for n in namelist]\n",
    "                assert FILE in _namelist\n",
    "            except:\n",
    "                print(\"Data not found in source file... abort!\")\n",
    "            else:\n",
    "                file = namelist[_namelist.index(FILE)]\n",
    "        else:\n",
    "            file = FILE\n",
    "        try:\n",
    "            # data = zf.read(file)\n",
    "            with zf.open(file) as zd:\n",
    "                data = pd.read_csv(zd, encoding=ENC)        \n",
    "        except:\n",
    "            print(\"Data %s cannot be read in source file... abort!\" % file)\n",
    "        else:\n",
    "            print(\"Data %s read in source file\" % file)"
   ]
  },
  {
   "cell_type": "markdown",
   "metadata": {},
   "source": [
    "Let's have a first look at the data:"
   ]
  },
  {
   "cell_type": "code",
   "execution_count": 97,
   "metadata": {},
   "outputs": [
    {
     "data": {
      "text/html": [
       "<div>\n",
       "<style scoped>\n",
       "    .dataframe tbody tr th:only-of-type {\n",
       "        vertical-align: middle;\n",
       "    }\n",
       "\n",
       "    .dataframe tbody tr th {\n",
       "        vertical-align: top;\n",
       "    }\n",
       "\n",
       "    .dataframe thead th {\n",
       "        text-align: right;\n",
       "    }\n",
       "</style>\n",
       "<table border=\"1\" class=\"dataframe\">\n",
       "  <thead>\n",
       "    <tr style=\"text-align: right;\">\n",
       "      <th></th>\n",
       "      <th>REG</th>\n",
       "      <th>PROV</th>\n",
       "      <th>NOME_REGIONE</th>\n",
       "      <th>NOME_PROVINCIA</th>\n",
       "      <th>NOME_COMUNE</th>\n",
       "      <th>COD_PROVCOM</th>\n",
       "      <th>CL_ETA</th>\n",
       "      <th>GE</th>\n",
       "      <th>MASCHI_15</th>\n",
       "      <th>MASCHI_16</th>\n",
       "      <th>...</th>\n",
       "      <th>FEMMINE_17</th>\n",
       "      <th>FEMMINE_18</th>\n",
       "      <th>FEMMINE_19</th>\n",
       "      <th>FEMMINE_20</th>\n",
       "      <th>TOTALE_15</th>\n",
       "      <th>TOTALE_16</th>\n",
       "      <th>TOTALE_17</th>\n",
       "      <th>TOTALE_18</th>\n",
       "      <th>TOTALE_19</th>\n",
       "      <th>TOTALE_20</th>\n",
       "    </tr>\n",
       "  </thead>\n",
       "  <tbody>\n",
       "    <tr>\n",
       "      <th>0</th>\n",
       "      <td>1</td>\n",
       "      <td>1</td>\n",
       "      <td>Piemonte</td>\n",
       "      <td>Torino</td>\n",
       "      <td>Agliè</td>\n",
       "      <td>1001</td>\n",
       "      <td>17</td>\n",
       "      <td>102</td>\n",
       "      <td>0</td>\n",
       "      <td>0</td>\n",
       "      <td>...</td>\n",
       "      <td>0</td>\n",
       "      <td>1</td>\n",
       "      <td>0</td>\n",
       "      <td>0</td>\n",
       "      <td>0</td>\n",
       "      <td>0</td>\n",
       "      <td>0</td>\n",
       "      <td>1</td>\n",
       "      <td>0</td>\n",
       "      <td>0</td>\n",
       "    </tr>\n",
       "    <tr>\n",
       "      <th>1</th>\n",
       "      <td>1</td>\n",
       "      <td>1</td>\n",
       "      <td>Piemonte</td>\n",
       "      <td>Torino</td>\n",
       "      <td>Agliè</td>\n",
       "      <td>1001</td>\n",
       "      <td>18</td>\n",
       "      <td>104</td>\n",
       "      <td>0</td>\n",
       "      <td>0</td>\n",
       "      <td>...</td>\n",
       "      <td>0</td>\n",
       "      <td>0</td>\n",
       "      <td>0</td>\n",
       "      <td>0</td>\n",
       "      <td>0</td>\n",
       "      <td>1</td>\n",
       "      <td>0</td>\n",
       "      <td>0</td>\n",
       "      <td>0</td>\n",
       "      <td>0</td>\n",
       "    </tr>\n",
       "    <tr>\n",
       "      <th>2</th>\n",
       "      <td>1</td>\n",
       "      <td>1</td>\n",
       "      <td>Piemonte</td>\n",
       "      <td>Torino</td>\n",
       "      <td>Agliè</td>\n",
       "      <td>1001</td>\n",
       "      <td>18</td>\n",
       "      <td>105</td>\n",
       "      <td>0</td>\n",
       "      <td>0</td>\n",
       "      <td>...</td>\n",
       "      <td>0</td>\n",
       "      <td>0</td>\n",
       "      <td>0</td>\n",
       "      <td>0</td>\n",
       "      <td>0</td>\n",
       "      <td>0</td>\n",
       "      <td>0</td>\n",
       "      <td>0</td>\n",
       "      <td>0</td>\n",
       "      <td>1</td>\n",
       "    </tr>\n",
       "    <tr>\n",
       "      <th>3</th>\n",
       "      <td>1</td>\n",
       "      <td>1</td>\n",
       "      <td>Piemonte</td>\n",
       "      <td>Torino</td>\n",
       "      <td>Agliè</td>\n",
       "      <td>1001</td>\n",
       "      <td>17</td>\n",
       "      <td>106</td>\n",
       "      <td>1</td>\n",
       "      <td>0</td>\n",
       "      <td>...</td>\n",
       "      <td>0</td>\n",
       "      <td>0</td>\n",
       "      <td>0</td>\n",
       "      <td>0</td>\n",
       "      <td>1</td>\n",
       "      <td>0</td>\n",
       "      <td>0</td>\n",
       "      <td>0</td>\n",
       "      <td>0</td>\n",
       "      <td>0</td>\n",
       "    </tr>\n",
       "    <tr>\n",
       "      <th>4</th>\n",
       "      <td>1</td>\n",
       "      <td>1</td>\n",
       "      <td>Piemonte</td>\n",
       "      <td>Torino</td>\n",
       "      <td>Agliè</td>\n",
       "      <td>1001</td>\n",
       "      <td>18</td>\n",
       "      <td>106</td>\n",
       "      <td>0</td>\n",
       "      <td>0</td>\n",
       "      <td>...</td>\n",
       "      <td>0</td>\n",
       "      <td>0</td>\n",
       "      <td>0</td>\n",
       "      <td>0</td>\n",
       "      <td>0</td>\n",
       "      <td>0</td>\n",
       "      <td>0</td>\n",
       "      <td>1</td>\n",
       "      <td>0</td>\n",
       "      <td>0</td>\n",
       "    </tr>\n",
       "  </tbody>\n",
       "</table>\n",
       "<p>5 rows × 26 columns</p>\n",
       "</div>"
      ],
      "text/plain": [
       "   REG  PROV NOME_REGIONE NOME_PROVINCIA NOME_COMUNE  COD_PROVCOM  CL_ETA  \\\n",
       "0    1     1     Piemonte         Torino       Agliè         1001      17   \n",
       "1    1     1     Piemonte         Torino       Agliè         1001      18   \n",
       "2    1     1     Piemonte         Torino       Agliè         1001      18   \n",
       "3    1     1     Piemonte         Torino       Agliè         1001      17   \n",
       "4    1     1     Piemonte         Torino       Agliè         1001      18   \n",
       "\n",
       "    GE  MASCHI_15  MASCHI_16    ...      FEMMINE_17  FEMMINE_18  FEMMINE_19  \\\n",
       "0  102          0          0    ...               0           1           0   \n",
       "1  104          0          0    ...               0           0           0   \n",
       "2  105          0          0    ...               0           0           0   \n",
       "3  106          1          0    ...               0           0           0   \n",
       "4  106          0          0    ...               0           0           0   \n",
       "\n",
       "   FEMMINE_20  TOTALE_15  TOTALE_16  TOTALE_17  TOTALE_18  TOTALE_19  \\\n",
       "0           0          0          0          0          1          0   \n",
       "1           0          0          1          0          0          0   \n",
       "2           0          0          0          0          0          0   \n",
       "3           0          1          0          0          0          0   \n",
       "4           0          0          0          0          1          0   \n",
       "\n",
       "   TOTALE_20  \n",
       "0          0  \n",
       "1          0  \n",
       "2          1  \n",
       "3          0  \n",
       "4          0  \n",
       "\n",
       "[5 rows x 26 columns]"
      ]
     },
     "execution_count": 97,
     "metadata": {},
     "output_type": "execute_result"
    }
   ],
   "source": [
    "data.head(5)"
   ]
  },
  {
   "cell_type": "markdown",
   "metadata": {},
   "source": [
    "What are the fields? It should be consistent with our metadata..."
   ]
  },
  {
   "cell_type": "code",
   "execution_count": 98,
   "metadata": {},
   "outputs": [
    {
     "name": "stdout",
     "output_type": "stream",
     "text": [
      "Fields of the data: ['REG', 'PROV', 'NOME_REGIONE', 'NOME_PROVINCIA', 'NOME_COMUNE', 'COD_PROVCOM', 'CL_ETA', 'GE', 'MASCHI_15', 'MASCHI_16', 'MASCHI_17', 'MASCHI_18', 'MASCHI_19', 'MASCHI_20', 'FEMMINE_15', 'FEMMINE_16', 'FEMMINE_17', 'FEMMINE_18', 'FEMMINE_19', 'FEMMINE_20', 'TOTALE_15', 'TOTALE_16', 'TOTALE_17', 'TOTALE_18', 'TOTALE_19', 'TOTALE_20']\n"
     ]
    }
   ],
   "source": [
    "try:\n",
    "    assert set(list(data.columns)) == set([v['name'] for v in METADATA['index'].values()])\n",
    "except:\n",
    "    print(\"Mismatch between metadata and actual columns in the dataset\")\n",
    "print('Fields of the data: %s' % list(data.columns))"
   ]
  },
  {
   "cell_type": "markdown",
   "metadata": {},
   "source": [
    "How many records?"
   ]
  },
  {
   "cell_type": "code",
   "execution_count": 99,
   "metadata": {},
   "outputs": [
    {
     "name": "stdout",
     "output_type": "stream",
     "text": [
      "#Records: 841031 - #Fields: 26\n"
     ]
    }
   ],
   "source": [
    "print('#Records: %s - #Fields: %s' % data.shape)"
   ]
  },
  {
   "cell_type": "markdown",
   "metadata": {},
   "source": [
    "Let's get rid of those records with no data, _i.e._ with 9999 in the `T_20` column"
   ]
  },
  {
   "cell_type": "code",
   "execution_count": 101,
   "metadata": {},
   "outputs": [
    {
     "name": "stdout",
     "output_type": "stream",
     "text": [
      "#Records: 198076 - #Fields: 26\n"
     ]
    }
   ],
   "source": [
    "NAN = METADATA['nan']\n",
    "it_20 = METADATA['index']['T_20']['name']\n",
    "# data = data[data[it_20] != NAN]\n",
    "data.drop(data.loc[data[it_20]==NAN].index, inplace=True)\n",
    "print('#Records: %s - #Fields: %s' % data.shape)"
   ]
  },
  {
   "cell_type": "markdown",
   "metadata": {},
   "source": [
    "Let's retrieve for the set of unique \"comune\" for further geocoding:"
   ]
  },
  {
   "cell_type": "code",
   "execution_count": 105,
   "metadata": {},
   "outputs": [
    {
     "name": "stdout",
     "output_type": "stream",
     "text": [
      "List of 50 first commune in the dataset: ['Agliè' 'Almese' 'Avigliana' 'Banchette' 'Beinasco' 'Bosconero' 'Bruino'\n",
      " 'Buttigliera Alta' 'Carmagnola' 'Castellamonte' 'Condove' 'Frossasco'\n",
      " 'Gassino Torinese' 'Grugliasco' 'Ivrea' 'Lanzo Torinese'\n",
      " 'Luserna San Giovanni' 'Mathi' 'None' 'Orbassano' 'Pancalieri'\n",
      " 'Piossasco' 'Piscina' 'Poirino' 'Riva presso Chieri' 'Rivara'\n",
      " 'Rivarolo Canavese' 'Sangano' 'San Giorgio Canavese'\n",
      " 'San Giusto Canavese' 'San Mauro Torinese' 'San Raffaele Cimena'\n",
      " 'San Secondo di Pinerolo' 'Strambino' 'Susa' 'Trofarello' 'Valperga'\n",
      " 'Verolengo' 'Villar Perosa' 'Villastellone' 'Volpiano' 'Borgosesia'\n",
      " 'Buronzo' 'Caresanablot' 'Gattinara' 'Roasio' 'Saluggia' 'Santhià'\n",
      " 'Trino' 'Varallo']\n"
     ]
    }
   ],
   "source": [
    "icomune = METADATA['index']['COMUNE']['name']\n",
    "comune = data[icomune].unique()\n",
    "print('List of 50 first commune in the dataset: %s' % comune[:50])"
   ]
  },
  {
   "cell_type": "markdown",
   "metadata": {},
   "source": [
    "Let's join this with the table of geolocated \"comunes\""
   ]
  },
  {
   "cell_type": "markdown",
   "metadata": {},
   "source": [
    "### Data analysis"
   ]
  },
  {
   "cell_type": "code",
   "execution_count": null,
   "metadata": {},
   "outputs": [],
   "source": []
  }
 ],
 "metadata": {
  "kernelspec": {
   "display_name": "Python 3",
   "language": "python",
   "name": "python3"
  },
  "language_info": {
   "codemirror_mode": {
    "name": "ipython",
    "version": 3
   },
   "file_extension": ".py",
   "mimetype": "text/x-python",
   "name": "python",
   "nbconvert_exporter": "python",
   "pygments_lexer": "ipython3",
   "version": "3.7.1"
  }
 },
 "nbformat": 4,
 "nbformat_minor": 2
}
